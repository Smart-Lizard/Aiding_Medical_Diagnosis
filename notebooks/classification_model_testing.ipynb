{
  "cells": [
    {
      "cell_type": "code",
      "source": [
        "from google.colab import drive\n",
        "drive.mount('/content/drive')"
      ],
      "metadata": {
        "id": "7caX8o6an07P"
      },
      "execution_count": null,
      "outputs": []
    },
    {
      "cell_type": "code",
      "source": [
        "!pip install torch torchvision medmnist\n",
        "!pip install git+https://github.com/MedMNIST/MedMNIST.git"
      ],
      "metadata": {
        "id": "n23m6_bWnupn"
      },
      "execution_count": null,
      "outputs": []
    },
    {
      "cell_type": "code",
      "source": [
        "!pip install scikit-learn\n",
        "from sklearn.metrics import roc_auc_score"
      ],
      "metadata": {
        "id": "7J7h_2yquRcU"
      },
      "execution_count": null,
      "outputs": []
    },
    {
      "cell_type": "markdown",
      "source": [
        "**Code to load images / labels and saved model to classify the images.\n",
        "Final version with good results!!**"
      ],
      "metadata": {
        "id": "aI3KNehqSAoz"
      }
    },
    {
      "cell_type": "code",
      "source": [
        "# much needed definitions\n",
        "from sklearn.metrics import roc_auc_score\n",
        "import numpy as np\n",
        "import matplotlib.pyplot as plt\n",
        "import medmnist\n",
        "import torch\n",
        "import torch.nn as nn\n",
        "import torch.optim as optim\n",
        "from torch.utils.data import DataLoader\n",
        "from torchvision import models\n",
        "import torchvision.transforms as transforms\n",
        "from tqdm import tqdm\n",
        "\n",
        "# Load and preprocess dataset (224x224 resolution)\n",
        "transform = transforms.Compose([\n",
        "    transforms.ToTensor(),\n",
        "    transforms.Normalize(mean=[0.485, 0.456, 0.406], std=[0.229, 0.224, 0.225])  # Pretrained model normalization\n",
        "])\n",
        "\n",
        "# Define the Model with ResNet18 pretrained\n",
        "class PathMNISTClassifier(nn.Module):\n",
        "    def __init__(self, num_classes=9):  # PathMNIST has 9 classes\n",
        "        super(PathMNISTClassifier, self).__init__()\n",
        "        self.model = models.resnet18(pretrained=True)\n",
        "\n",
        "        # Modify the final fully connected layer to match the number of classes in PathMNIST\n",
        "        in_features = self.model.fc.in_features\n",
        "        self.model.fc = nn.Linear(in_features, num_classes)\n",
        "\n",
        "    def forward(self, x):\n",
        "        return self.model(x)\n",
        "\n",
        "class CustomDataset(Dataset):\n",
        "    def __init__(self, data, transform=None):\n",
        "        self.data = data\n",
        "        self.transform = transform\n",
        "\n",
        "    def __len__(self):\n",
        "        return len(self.data)\n",
        "\n",
        "    def __getitem__(self, idx):\n",
        "        image, label = self.data[idx]\n",
        "        if self.transform:\n",
        "            image = self.transform(image)\n",
        "        return image, label\n",
        "\n",
        "# Function to unnormalize an image\n",
        "def unnormalize(tensor, mean, std):\n",
        "    \"\"\"Unnormalizes a tensor image with mean and standard deviation.\"\"\"\n",
        "    for t, m, s in zip(tensor, mean, std):\n",
        "        t.mul_(s).add_(m)\n",
        "    return tensor"
      ],
      "metadata": {
        "id": "EsVsiFPZMx6D"
      },
      "execution_count": null,
      "outputs": []
    },
    {
      "cell_type": "code",
      "source": [
        "#. Load images/ labels and load the model to classify\n",
        "#  Log True vs Predicted labels to confirm classification quality.\n",
        "import torch\n",
        "import torch.nn as nn\n",
        "import torch.optim as optim\n",
        "from torch.utils.data import DataLoader, Dataset\n",
        "from torchvision import transforms, models\n",
        "import medmnist\n",
        "from medmnist import INFO, PathMNIST\n",
        "from tqdm import tqdm\n",
        "import matplotlib.pyplot as plt\n",
        "from sklearn.metrics import confusion_matrix, multilabel_confusion_matrix\n",
        "import numpy as np\n",
        "import seaborn as sns\n",
        "import os\n",
        "from PIL import Image\n",
        "\n",
        "save_dir = \"/content/drive/MyDrive/ColabNotebooks/PathMnistTestData/\"  # Directory to load images from\n",
        "labels_file_path = os.path.join(save_dir, \"labels.txt\")  # Path for labels file\n",
        "\n",
        "# --- Load saved images and create testsaved_loader ---\n",
        "testsaved_data = []\n",
        "with open(labels_file_path, \"r\") as labels_file:  # Open labels file for reading\n",
        "    for line in labels_file:\n",
        "        image_name, label = line.strip().split(\",\")  # Get image name and label\n",
        "        image_path = os.path.join(save_dir, image_name)\n",
        "        image = Image.open(image_path).convert('RGB')\n",
        "        testsaved_data.append((image, int(label)))  # Append to testsaved_data\n",
        "\n",
        "testsaved_loader = DataLoader(CustomDataset(testsaved_data, transform=transform), batch_size=1)\n",
        "\n",
        "# --- Test with saved model and compare results ---\n",
        "# Load the best model\n",
        "model_path = '/content/drive/MyDrive/ColabNotebooks/pathmnist_224_best_auc_model.pth'\n",
        "model = PathMNISTClassifier(num_classes=9)\n",
        "#model.load_state_dict(torch.load(model_path))\n",
        "model.load_state_dict(torch.load(model_path, weights_only=True))\n",
        "model.eval()  # Set the model to evaluation mode\n",
        "\n",
        "# Get the label names from the PathMNIST info\n",
        "info = INFO['pathmnist']\n",
        "label_names = list(info['label'].values())\n",
        "\n",
        "print(\"\\nTesting saved images:\")\n",
        "for i, (saved_image, saved_label) in enumerate(testsaved_loader):\n",
        "    # Make predictions\n",
        "    saved_output = model(saved_image)\n",
        "    _, saved_predicted = torch.max(saved_output, 1)\n",
        "\n",
        "    # Get text labels for true and predicted labels\n",
        "    true_label_name = label_names[saved_label.item()]\n",
        "    predicted_label_name = label_names[saved_predicted.item()]\n",
        "\n",
        "    print(f\"Image {i + 1}:\")\n",
        "    print(f\"  -- True Label: {true_label_name} ({saved_label.item()})\")\n",
        "    print(f\"  -- Predicted Label: {predicted_label_name} ({saved_predicted.item()})\")\n",
        "\n",
        "   # Unnormalize the image before displaying\n",
        "    mean = [0.485, 0.456, 0.406]\n",
        "    std = [0.229, 0.224, 0.225]\n",
        "    unnormalized_image = unnormalize(saved_image.clone().squeeze(), mean, std)  # Clone to avoid modifying the original\n",
        "\n",
        "    # Display the unnormalized image\n",
        "    plt.figure(figsize=(2, 2))\n",
        "    plt.imshow(unnormalized_image.permute(1, 2, 0).clip(0, 1))  # Clip to [0, 1] range\n",
        "    plt.axis('off')\n",
        "    plt.show()"
      ],
      "metadata": {
        "id": "p1NGtYouJpGC"
      },
      "execution_count": null,
      "outputs": []
    },
    {
      "cell_type": "markdown",
      "source": [
        "**Backup Code:\n",
        "Code to load Test-Dataset**"
      ],
      "metadata": {
        "id": "9sUgxdrhSX5C"
      }
    },
    {
      "cell_type": "code",
      "source": [
        "import torch\n",
        "import torch.nn as nn\n",
        "import torch.optim as optim\n",
        "from torch.utils.data import DataLoader\n",
        "from torchvision import transforms, models\n",
        "import medmnist\n",
        "from medmnist import INFO, PathMNIST\n",
        "from tqdm import tqdm\n",
        "import matplotlib.pyplot as plt\n",
        "\n",
        "# 1. Load and preprocess dataset (224x224 resolution)\n",
        "transform = transforms.Compose([\n",
        "    transforms.ToTensor(),\n",
        "    transforms.Normalize(mean=[0.485, 0.456, 0.406], std=[0.229, 0.224, 0.225])  # Pretrained model normalization\n",
        "])\n",
        "\n",
        "info = INFO['pathmnist']\n",
        "DataClass = getattr(medmnist, info['python_class'])\n",
        "\n",
        "# Load the PathMNIST dataset with the desired resolution:\n",
        "# train_dataset = PathMNIST(split='train', download=True, transform=transform, as_rgb=True, size=224)\n",
        "# val_dataset = PathMNIST(split='val', download=True, transform=transform, as_rgb=True, size=224)\n",
        "test_dataset = PathMNIST(split='test', download=True, transform=transform, as_rgb=True, size=224)\n",
        "\n",
        "# DataLoader for training, validation, and testing\n",
        "# train_loader = DataLoader(train_dataset, batch_size=32, shuffle=True)\n",
        "# val_loader = DataLoader(val_dataset, batch_size=32, shuffle=False)\n",
        "test_loader = DataLoader(test_dataset, batch_size=32, shuffle=False)"
      ],
      "metadata": {
        "id": "82EJJt3NrAjD"
      },
      "execution_count": null,
      "outputs": []
    },
    {
      "cell_type": "markdown",
      "source": [
        "**Code to display all labels**"
      ],
      "metadata": {
        "id": "Sh7bjS9ZSocy"
      }
    },
    {
      "cell_type": "code",
      "source": [
        "import medmnist\n",
        "\n",
        "# Get info for PathMNIST\n",
        "info = medmnist.INFO['pathmnist']\n",
        "\n",
        "# Print the list of text labels\n",
        "print(\"Text labels for PathMNIST:\", info['label'])\n",
        "\n",
        "label_text_values = list(info['label'].values())  # Get all values from label_text dictionary\n",
        "print (label_text_values)"
      ],
      "metadata": {
        "id": "NyU7hICAwCVL"
      },
      "execution_count": null,
      "outputs": []
    },
    {
      "cell_type": "markdown",
      "source": [
        "**Code to classify test-datatset**"
      ],
      "metadata": {
        "id": "nERvMw9ySvcX"
      }
    },
    {
      "source": [
        "# code to check classification on test-dataset\n",
        "import torch\n",
        "import torch.nn as nn\n",
        "import torch.optim as optim\n",
        "from torch.utils.data import DataLoader\n",
        "from torchvision import transforms, models\n",
        "import medmnist\n",
        "from medmnist import INFO, PathMNIST\n",
        "from tqdm import tqdm\n",
        "import matplotlib.pyplot as plt\n",
        "from sklearn.metrics import confusion_matrix, multilabel_confusion_matrix\n",
        "from sklearn.metrics import roc_auc_score\n",
        "import numpy as np\n",
        "\n",
        "\n",
        "# Load the best model\n",
        "model_path = '/content/drive/MyDrive/ColabNotebooks/pathmnist_224_best_auc_model.pth'\n",
        "model = PathMNISTClassifier(num_classes=9)\n",
        "model.load_state_dict(torch.load(model_path))\n",
        "model.eval()  # Set the model to evaluation mode\n",
        "\n",
        "# Test and get predictions\n",
        "all_true_labels = []\n",
        "all_predicted_labels = []\n",
        "all_predicted_probs = []  # For AUC calculation\n",
        "\n",
        "with torch.no_grad():\n",
        "    for images, labels in tqdm(test_loader, desc=\"Testing\"):\n",
        "        outputs = model(images)\n",
        "        _, predicted_labels = torch.max(outputs, 1)\n",
        "        # Corrected: Use append instead of extend\n",
        "        for label in labels.cpu().numpy():\n",
        "            all_true_labels.append(label.item())\n",
        "        for predicted_label in predicted_labels.cpu().numpy():\n",
        "            all_predicted_labels.append(predicted_label.item())\n",
        "        all_predicted_probs.extend(outputs.cpu().numpy()) # Extend is fine here as we need the full probability distribution\n",
        "\n",
        "# Print true and predicted classes\n",
        "label_names = list(info['label'].values())  # Get all values from label_text dictionary\n",
        "\n",
        "for i in range(len(all_true_labels)):\n",
        "    true_label_num = all_true_labels[i]\n",
        "    predicted_label_num = all_predicted_labels[i]\n",
        "    true_label_text = label_names[true_label_num]  # Get text label\n",
        "    predicted_label_text = label_names[predicted_label_num]  # Get text label\n",
        "\n",
        "    print(f\"Sample {i+1}:\")\n",
        "    print(f\"  True: {true_label_num} ({true_label_text})\")\n",
        "    print(f\"  Predicted: {predicted_label_num} ({predicted_label_text})\")"
      ],
      "cell_type": "code",
      "metadata": {
        "id": "q_FBc8vTMvre"
      },
      "execution_count": null,
      "outputs": []
    },
    {
      "cell_type": "code",
      "source": [
        "from sklearn.metrics import confusion_matrix, multilabel_confusion_matrix"
      ],
      "metadata": {
        "id": "9JoWfcEFRzer"
      },
      "execution_count": null,
      "outputs": []
    },
    {
      "cell_type": "markdown",
      "source": [
        "**Code to display the results from classification of Test-Dataset**"
      ],
      "metadata": {
        "id": "MY1nQlyRS05-"
      }
    },
    {
      "cell_type": "code",
      "source": [
        "import matplotlib.pyplot as plt\n",
        "from sklearn.metrics import confusion_matrix, multilabel_confusion_matrix\n",
        "import numpy as np\n",
        "import seaborn as sns # Import seaborn for better visualization\n",
        "\n",
        "# ... (Rest of the code remains the same)\n",
        "\n",
        "# 7. Calculate and plot confusion matrices for each label\n",
        "label_names = list(info['label'].values())\n",
        "num_classes = len(label_names)\n",
        "\n",
        "# Overall confusion matrix\n",
        "cm = confusion_matrix(all_true_labels, all_predicted_labels)\n",
        "plt.figure(figsize=(10, 8))\n",
        "sns.heatmap(cm, annot=True, fmt=\"d\", cmap=\"Blues\", xticklabels=label_names, yticklabels=label_names)\n",
        "plt.title(\"Overall Confusion Matrix\")\n",
        "plt.xlabel(\"Predicted Label\")\n",
        "plt.ylabel(\"True Label\")\n",
        "plt.show()\n",
        "\n",
        "# Confusion matrix for each label using multilabel_confusion_matrix\n",
        "mcm = multilabel_confusion_matrix(all_true_labels, all_predicted_labels, labels=range(num_classes))\n",
        "\n",
        "print(\"\\nConfusion Matrices for Each Label:\")\n",
        "for i, label_name in enumerate(label_names):\n",
        "    plt.figure(figsize=(6, 4))\n",
        "    sns.heatmap(mcm[i], annot=True, fmt=\"d\", cmap=\"Blues\",\n",
        "                xticklabels=[\"Negative\", \"Positive\"], yticklabels=[\"Negative\", \"Positive\"])\n",
        "    plt.title(f\"Confusion Matrix for {label_name}\")\n",
        "    plt.xlabel(\"Predicted Label\")\n",
        "    plt.ylabel(\"True Label\")\n",
        "    plt.show()"
      ],
      "metadata": {
        "id": "E5vPG3PASFgR"
      },
      "execution_count": null,
      "outputs": []
    }
  ],
  "metadata": {
    "accelerator": "TPU",
    "colab": {
      "gpuType": "V28",
      "provenance": []
    },
    "kernelspec": {
      "display_name": "Python 3",
      "name": "python3"
    },
    "language_info": {
      "name": "python"
    }
  },
  "nbformat": 4,
  "nbformat_minor": 0
}