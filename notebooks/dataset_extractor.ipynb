{
  "nbformat": 4,
  "nbformat_minor": 0,
  "metadata": {
    "colab": {
      "provenance": [],
      "machine_shape": "hm",
      "gpuType": "T4"
    },
    "kernelspec": {
      "name": "python3",
      "display_name": "Python 3"
    },
    "language_info": {
      "name": "python"
    },
    "accelerator": "GPU"
  },
  "cells": [
    {
      "cell_type": "code",
      "source": [
        "# Install necessary libraries\n",
        "!pip install medmnist numpy pandas tqdm\n",
        "\n",
        "# Mount Google Drive\n",
        "from google.colab import drive\n",
        "drive.mount('/content/drive')\n",
        "# Paths\n",
        "drive_output_dir = '/content/drive/MyDrive/pathmnist/'  # Change this to your desired Drive folder"
      ],
      "metadata": {
        "id": "BHr_UyLKVqkn"
      },
      "execution_count": null,
      "outputs": []
    },
    {
      "cell_type": "code",
      "source": [
        "from medmnist import INFO, PathMNIST\n",
        "import os\n",
        "import numpy as np\n",
        "\n",
        "# Download PathMNIST dataset\n",
        "data_path = \"/root/.medmnist\"  # Default path used by medmnist\n",
        "PathMNIST(root=data_path, split=\"train\", download=True, size=224)\n",
        "\n",
        "# MedMNIST info for PathMNIST\n",
        "dataset_info = INFO['pathmnist']\n",
        "label_text_values = list(dataset_info['label'].values())  # Get all values from label_text dictionary\n",
        "print (label_text_values)\n",
        "\n",
        "data = np.load(\"/root/.medmnist/pathmnist_224.npz\")\n",
        "images = data[\"train_images\"]  # Training images\n",
        "labels = data[\"train_labels\"]  # Corresponding labels\n",
        "\n",
        "# Manual label mapping\n",
        "label_mapping = {\n",
        "    0: \"adipose\",\n",
        "    1: \"background\",\n",
        "    2: \"debris\",\n",
        "    3: \"lymphocytes\",\n",
        "    4: \"mucus\",\n",
        "    5: \"smooth muscle\",\n",
        "    6: \"normal colon mucosa\",\n",
        "    7: \"cancer-associated stroma\",\n",
        "    8: \"colorectal adenocarcinoma epithelium\"\n",
        "}"
      ],
      "metadata": {
        "id": "jD0aPG0CbVoH"
      },
      "execution_count": null,
      "outputs": []
    },
    {
      "cell_type": "code",
      "source": [
        "# Import tqdm\n",
        "from tqdm import tqdm\n",
        "# Import the Image module from Pillow\n",
        "from PIL import Image\n",
        "\n",
        "# Create the output directory on Drive\n",
        "image_dir = os.path.join(drive_output_dir, 'images')\n",
        "os.makedirs(image_dir, exist_ok=True)\n",
        "\n",
        "# Save images\n",
        "metadata = []\n",
        "for idx, (img, label) in enumerate(tqdm(zip(images, labels), desc=\"Processing images\", total=len(labels))):\n",
        "\n",
        "    # Convert the numpy array to an image (RGB format)\n",
        "    pil_img = Image.fromarray(img)\n",
        "\n",
        "    # Get the disease name using the label mapping and format the label description\n",
        "    disease_name = label_mapping[label[0]]\n",
        "    label_description = f\"a histopathological image of an area with {disease_name}\"\n",
        "\n",
        "    # Create a subdirectory for the label if it doesn't exist\n",
        "    # label_dir = os.path.join(image_dir, disease_name)\n",
        "    label_dir = os.path.join(image_dir, label_description)\n",
        "    os.makedirs(label_dir, exist_ok=True)\n",
        "\n",
        "    # Save image as PNG under the label directory\n",
        "    file_name = f'image_{idx}.png'\n",
        "    image_path = os.path.join(label_dir, file_name)\n",
        "    pil_img.save(image_path)\n",
        "\n",
        "    # Append to metadata\n",
        "    metadata.append([file_name, label_description])\n",
        "\n",
        "print(f\"Dataset prepared and saved to {drive_output_dir}\")"
      ],
      "metadata": {
        "id": "aZYNF9oyKoBP"
      },
      "execution_count": null,
      "outputs": []
    },
    {
      "cell_type": "code",
      "source": [
        "from google.colab import drive\n",
        "drive.mount('/content/drive')"
      ],
      "metadata": {
        "id": "o_O8rRSydgPD"
      },
      "execution_count": null,
      "outputs": []
    },
    {
      "cell_type": "code",
      "source": [
        "import os\n",
        "import json\n",
        "\n",
        "# Paths\n",
        "base_dir = '/content/drive/MyDrive/pathmnist/images'\n",
        "output_file = '/content/drive/MyDrive/pathmnist/images/metadata.jsonl'\n",
        "\n",
        "# Prepare the data\n",
        "data = []\n",
        "for class_name in os.listdir(base_dir):\n",
        "    class_path = os.path.join(base_dir, class_name)\n",
        "    if os.path.isdir(class_path):\n",
        "        for img_name in os.listdir(class_path):\n",
        "            img_path = os.path.join(class_path, img_name)\n",
        "            data.append({\n",
        "                \"file_name\": class_name + \"/\" + img_name,\n",
        "                \"label\": class_name\n",
        "            })\n",
        "\n",
        "# Write to metadata.jsonl\n",
        "with open(output_file, 'w') as f:\n",
        "    for entry in data:\n",
        "        f.write(json.dumps(entry) + '\\n')\n",
        "\n",
        "print(f\"Metadata file created at {output_file}\")"
      ],
      "metadata": {
        "id": "T2mlFJZfV5Cj"
      },
      "execution_count": null,
      "outputs": []
    },
    {
      "cell_type": "code",
      "source": [
        "import os\n",
        "\n",
        "# Define the base directory\n",
        "base_dir = '/content/drive/MyDrive/pathmnist/images'\n",
        "\n",
        "# Initialize total image count\n",
        "total_image_count = 0\n",
        "\n",
        "# Iterate through sub-folders and count images\n",
        "for sub_folder in os.listdir(base_dir):\n",
        "    sub_folder_path = os.path.join(base_dir, sub_folder)\n",
        "\n",
        "    # Check if it's a directory\n",
        "    if os.path.isdir(sub_folder_path):\n",
        "        # Count image files in the sub-folder\n",
        "        image_count = len([f for f in os.listdir(sub_folder_path) if os.path.isfile(os.path.join(sub_folder_path, f)) and f.lower().endswith(('.png', '.jpg', '.jpeg'))])\n",
        "\n",
        "        print(f\"Sub-folder: {sub_folder}, Image Count: {image_count}\")\n",
        "\n",
        "        # Add to total count\n",
        "        total_image_count += image_count\n",
        "\n",
        "# Print the total count\n",
        "print(f\"\\nTotal Image Count: {total_image_count}\")"
      ],
      "metadata": {
        "id": "7wyeEPd-g1ZC"
      },
      "execution_count": null,
      "outputs": []
    },
    {
      "cell_type": "code",
      "source": [
        "import json\n",
        "from collections import defaultdict\n",
        "\n",
        "# Define the path to the metadata file\n",
        "metadata_file = '/content/drive/MyDrive/pathmnist/images/metadata.jsonl'\n",
        "\n",
        "# Create a dictionary to store label counts\n",
        "label_counts = defaultdict(int)\n",
        "\n",
        "# Initialize total count\n",
        "total_count = 0\n",
        "\n",
        "# Open the metadata file and process each line\n",
        "with open(metadata_file, 'r') as f:\n",
        "    for line in f:\n",
        "        # Load the JSON data from the line\n",
        "        data = json.loads(line)\n",
        "\n",
        "        # Get the label from the data\n",
        "        label = data['label']\n",
        "\n",
        "        # Increment the count for the label\n",
        "        label_counts[label] += 1\n",
        "\n",
        "        # Increment the total count\n",
        "        total_count += 1\n",
        "\n",
        "# Print the label counts\n",
        "for label, count in label_counts.items():\n",
        "    print(f\"Label: {label}, Count: {count}\")\n",
        "\n",
        "# Print the total count\n",
        "print(f\"\\nTotal Count: {total_count}\")"
      ],
      "metadata": {
        "id": "KV_G9LjAhaVB"
      },
      "execution_count": null,
      "outputs": []
    }
  ]
}