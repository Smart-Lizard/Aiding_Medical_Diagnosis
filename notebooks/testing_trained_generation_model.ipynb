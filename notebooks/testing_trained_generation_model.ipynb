{
  "cells": [
    {
      "cell_type": "code",
      "execution_count": null,
      "metadata": {
        "id": "ve_CVM7MmG5C"
      },
      "outputs": [],
      "source": [
        "from google.colab import drive\n",
        "drive.mount('/content/drive')"
      ]
    },
    {
      "cell_type": "code",
      "execution_count": null,
      "metadata": {
        "id": "WbuSW2x0mJXM"
      },
      "outputs": [],
      "source": [
        "!pip install git+https://github.com/huggingface/diffusers\n",
        "!pip install accelerate wand\n",
        "!pip install -r https://raw.githubusercontent.com/huggingface/diffusers/main/examples/text_to_image/requirements.txt\n",
        "\n",
        "!accelerate config default"
      ]
    },
    {
      "cell_type": "code",
      "source": [
        "import os\n",
        "import safetensors.torch\n",
        "from diffusers import DiffusionPipeline, UNet2DConditionModel\n",
        "from diffusers.models.lora import LoRACompatibleLinear\n",
        "from peft import LoraConfig\n",
        "import torch\n",
        "from accelerate import Accelerator\n",
        "from diffusers.utils.torch_utils import is_compiled_module"
      ],
      "metadata": {
        "id": "TjLcH4XgV7Iu"
      },
      "execution_count": null,
      "outputs": []
    },
    {
      "cell_type": "code",
      "execution_count": null,
      "metadata": {
        "id": "ticJpZjfDevp"
      },
      "outputs": [],
      "source": [
        "    saved_model_dir = '' # insert path for trained generation model, along with the checkpoint that performs best\n",
        "\n",
        "    accelerator = Accelerator() # (mixed_precision=None)\n",
        "\n",
        "    unet = UNet2DConditionModel.from_pretrained('stable-diffusion-v1-5/stable-diffusion-v1-5', subfolder=\"unet\")\n",
        "    unet.requires_grad_(False)\n",
        "    unet_lora_config = LoraConfig(\n",
        "        r=4,\n",
        "        lora_alpha=4,\n",
        "        init_lora_weights=\"gaussian\",\n",
        "        target_modules=[\"to_k\", \"to_q\", \"to_v\", \"to_out.0\"],\n",
        "    )\n",
        "    unet.add_adapter(unet_lora_config)\n",
        "    unet = accelerator.prepare(unet)\n",
        "\n",
        "    pipeline = DiffusionPipeline.from_pretrained(\n",
        "       saved_model_dir,\n",
        "       unet=unet,\n",
        "       torch_dtype=torch.float32,\n",
        "    ).to(\"cuda\")\n",
        "    pipeline.safety_checker = None\n",
        "    pipeline.requires_safety_checker = False\n",
        "\n",
        "    # Load the accelerator state (this is essential line as it turns out!!!)\n",
        "    accelerator.load_state(saved_model_dir)"
      ]
    },
    {
      "cell_type": "code",
      "source": [
        "from IPython.display import display\n",
        "import matplotlib.pyplot as plt\n",
        "\n",
        "prompts=[\"a histopathological image of an area with adipose\",\n",
        "          \"a histopathological image of an area with mucus\",\n",
        "          \"a histopathological image of an area with cancer-associated stroma\",\n",
        "          \"a histopathological image of an area with smooth muscle\",\n",
        "          \"a histopathological image of an area with colorectal adenocarcinoma epithelium\",\n",
        "          \"a histopathological image of an area with lymphocytes\",\n",
        "          \"a histopathological image of an area with debris\",\n",
        "          \"a histopathological image of an area with background\",\n",
        "          \"a histopathological image of an area with normal colon mucosa\"]\n",
        "'''\n",
        "image = pipeline(prompt=\"a histopathological image of an area with adipose\").images[0]\n",
        "width, height = image.size\n",
        "image = image.resize((int(width / 2), int(height / 2)))\n",
        "display(image)\n",
        "'''\n",
        "\n",
        "fig, axes = plt.subplots(3, 3, figsize=(12, 12))  # 3x3 grid, larger figure size\n",
        "\n",
        "for i, prompt in enumerate(prompts):\n",
        "    image = pipeline(prompt).images[0]\n",
        "    row = i // 3  # Calculate row index for 3x3 grid\n",
        "    col = i % 3   # Calculate column index for 3x3 grid\n",
        "    axes[row, col].imshow(image)\n",
        "    axes[row, col].axis('off')\n",
        "    axes[row, col].set_title(prompt, fontsize=10)\n",
        "\n",
        "plt.subplots_adjust(wspace=1, hspace=0.5)  # Adjust spacing for 3x3 grid\n",
        "plt.show()"
      ],
      "metadata": {
        "id": "BYtfX-oDZmI0"
      },
      "execution_count": null,
      "outputs": []
    }
  ],
  "metadata": {
    "accelerator": "GPU",
    "colab": {
      "gpuType": "T4",
      "machine_shape": "hm",
      "provenance": []
    },
    "kernelspec": {
      "display_name": "Python 3",
      "name": "python3"
    },
    "language_info": {
      "name": "python"
    }
  },
  "nbformat": 4,
  "nbformat_minor": 0
}